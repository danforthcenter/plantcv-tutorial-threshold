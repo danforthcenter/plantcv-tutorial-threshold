{
 "cells": [
  {
   "cell_type": "code",
   "execution_count": null,
   "metadata": {},
   "outputs": [],
   "source": []
  },
  {
   "cell_type": "markdown",
   "metadata": {},
   "source": [
    "# Welcome to the thresholding and segmentation tutorials for PlantCV\n",
    "\n",
    "The [PlantCV project](http://plantcv.danforthcenter.org/) is an open-source imaging processing package for plant phenotyping. These are tutorials meant to teach how to use PlantCV functions. These workflows are intended for teaching concepts and workflow building skills, NOT meant to be re-used as a template for analyzing datasets. \n",
    "\n",
    "## Table of Contents\n",
    "\n",
    "### Tutorials\n",
    "\n",
    "1. [Thresholding](modules/01.thresholding.ipynb)\n",
    "2. [Edge Detection](modules/02.edge-detection.ipynb)\n",
    "3. [Supervised Machine Learning](modules/03.supervised-machine-learning.ipynb)\n",
    "4. [Unsupervised Machine Learning](modules/04.unsupervised-machine-learning.ipynb)\n",
    "5. [Background Subtraction](modules/05.background-subtraction.ipynb)\n",
    "6. [Dual Thresholding](modules/06.2d-thresholding.ipynb)\n",
    "\n",
    "\n"
   ]
  },
  {
   "cell_type": "code",
   "execution_count": null,
   "metadata": {},
   "outputs": [],
   "source": []
  }
 ],
 "metadata": {
  "kernelspec": {
   "display_name": "Python 3 (ipykernel)",
   "language": "python",
   "name": "python3"
  },
  "language_info": {
   "codemirror_mode": {
    "name": "ipython",
    "version": 3
   },
   "file_extension": ".py",
   "mimetype": "text/x-python",
   "name": "python",
   "nbconvert_exporter": "python",
   "pygments_lexer": "ipython3",
   "version": "3.10.10"
  }
 },
 "nbformat": 4,
 "nbformat_minor": 4
}
